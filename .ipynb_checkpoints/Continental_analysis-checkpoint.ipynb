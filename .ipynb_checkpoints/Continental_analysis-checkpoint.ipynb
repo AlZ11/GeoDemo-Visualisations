{
 "cells": [
  {
   "cell_type": "code",
   "execution_count": 8,
   "id": "9f8a5263-2c42-43f4-988b-d6977a8ab2ba",
   "metadata": {},
   "outputs": [],
   "source": [
    "import numpy as np\n",
    "import pandas as pd\n",
    "from datetime import datetime\n",
    "from bokeh.models import ColumnDataSource, DatetimeTickFormatter, HoverTool\n",
    "from bokeh.models.widgets import DateRangeSlider\n",
    "from bokeh.layouts import layout, column\n",
    "from bokeh.models.callbacks import CustomJS\n",
    "from bokeh.plotting import figure, output_file, show, save\n",
    "from bokeh.io import output_notebook"
   ]
  },
  {
   "cell_type": "code",
   "execution_count": null,
   "id": "9de05c22-0dbe-4e1b-9910-df0455cdae80",
   "metadata": {},
   "outputs": [],
   "source": []
  },
  {
   "cell_type": "code",
   "execution_count": null,
   "id": "f906ef43-f64b-4a62-acac-2f19803ab6e8",
   "metadata": {},
   "outputs": [],
   "source": []
  },
  {
   "cell_type": "code",
   "execution_count": null,
   "id": "63ff361c-9460-478d-8bf0-b66f9228260e",
   "metadata": {},
   "outputs": [],
   "source": []
  }
 ],
 "metadata": {
  "kernelspec": {
   "display_name": "Python 3 (ipykernel)",
   "language": "python",
   "name": "python3"
  },
  "language_info": {
   "codemirror_mode": {
    "name": "ipython",
    "version": 3
   },
   "file_extension": ".py",
   "mimetype": "text/x-python",
   "name": "python",
   "nbconvert_exporter": "python",
   "pygments_lexer": "ipython3",
   "version": "3.11.4"
  }
 },
 "nbformat": 4,
 "nbformat_minor": 5
}
